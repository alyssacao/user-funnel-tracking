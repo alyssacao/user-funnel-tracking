{
 "cells": [
  {
   "cell_type": "code",
   "execution_count": null,
   "id": "9a98a02f-7a7f-41e0-8853-97333aa1a2db",
   "metadata": {},
   "outputs": [],
   "source": [
    "pip install kafka-python"
   ]
  },
  {
   "cell_type": "code",
   "execution_count": null,
   "id": "352d9747-4f92-4894-8428-92721eff8f18",
   "metadata": {},
   "outputs": [],
   "source": [
    "import pandas as pd\n",
    "from kafka import KafkaConsumer, KafkaProducer\n",
    "from time import sleep\n",
    "import json\n",
    "from json import dumps"
   ]
  },
  {
   "cell_type": "code",
   "execution_count": null,
   "id": "3a3b6ef2-ada4-4430-8b82-ea40f591882f",
   "metadata": {},
   "outputs": [],
   "source": [
    "producer = KafkaProducer(bootstrap_servers=['3.148.233.16:9092'],\n",
    "                         value_serializer=lambda x:\n",
    "                         dumps(x).encode('utf-8'))"
   ]
  },
  {
   "cell_type": "code",
   "execution_count": null,
   "id": "26a4cec3-4acd-4d84-a3de-f55a3d807a30",
   "metadata": {},
   "outputs": [],
   "source": [
    "producer.send('user-funnel',value=\"{'name':'sdfksdf'}\")"
   ]
  },
  {
   "cell_type": "code",
   "execution_count": null,
   "id": "1f1911ed-952f-4c43-9de3-67f7ceefdae1",
   "metadata": {},
   "outputs": [],
   "source": [
    "df = pd.read_csv(\"user_funnel_metrics.csv\")"
   ]
  },
  {
   "cell_type": "code",
   "execution_count": null,
   "id": "f8c9d8fc-356c-45f5-9256-92d351c45467",
   "metadata": {},
   "outputs": [],
   "source": [
    "df.head()"
   ]
  },
  {
   "cell_type": "code",
   "execution_count": null,
   "id": "6a23c238-9e61-4bc5-a1c2-08fc5c678e05",
   "metadata": {},
   "outputs": [],
   "source": [
    "# while True:\n",
    "#     for _, row in df.iterrows():\n",
    "#         user_metrics = row.to_dict()\n",
    "#         producer.send('demo_testing2', value=user_metrics)\n",
    "#         sleep(1)"
   ]
  },
  {
   "cell_type": "code",
   "execution_count": null,
   "id": "f6a63956-e248-4cb7-aee9-6e5ba05b6a64",
   "metadata": {},
   "outputs": [],
   "source": [
    "while True:\n",
    "    user_metrics = df.sample(1).to_dict(orient=\"records\")[0]\n",
    "    producer.send('user-funnel',value=user_metrics)\n",
    "    sleep(1)"
   ]
  },
  {
   "cell_type": "code",
   "execution_count": null,
   "id": "7ae41546-7fb0-4a24-9bf8-979d445f1e0f",
   "metadata": {},
   "outputs": [],
   "source": [
    "producer.flush()"
   ]
  },
  {
   "cell_type": "code",
   "execution_count": null,
   "id": "bec186dc-e3c2-4cd5-998f-edf061d02a04",
   "metadata": {},
   "outputs": [],
   "source": []
  }
 ],
 "metadata": {
  "kernelspec": {
   "display_name": "Python 3 (ipykernel)",
   "language": "python",
   "name": "python3"
  },
  "language_info": {
   "codemirror_mode": {
    "name": "ipython",
    "version": 3
   },
   "file_extension": ".py",
   "mimetype": "text/x-python",
   "name": "python",
   "nbconvert_exporter": "python",
   "pygments_lexer": "ipython3",
   "version": "3.11.12"
  }
 },
 "nbformat": 4,
 "nbformat_minor": 5
}
