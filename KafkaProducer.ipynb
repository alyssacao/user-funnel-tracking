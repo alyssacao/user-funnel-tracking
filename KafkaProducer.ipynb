{
 "cells": [
  {
   "cell_type": "code",
   "execution_count": 1,
   "id": "9a98a02f-7a7f-41e0-8853-97333aa1a2db",
   "metadata": {},
   "outputs": [
    {
     "name": "stdout",
     "output_type": "stream",
     "text": [
      "Requirement already satisfied: kafka-python in /usr/local/lib/python3.11/site-packages (2.2.7)\n",
      "Note: you may need to restart the kernel to use updated packages.\n"
     ]
    }
   ],
   "source": [
    "pip install kafka-python"
   ]
  },
  {
   "cell_type": "code",
   "execution_count": 1,
   "id": "352d9747-4f92-4894-8428-92721eff8f18",
   "metadata": {},
   "outputs": [],
   "source": [
    "import pandas as pd\n",
    "from kafka import KafkaConsumer, KafkaProducer\n",
    "from time import sleep\n",
    "import json\n",
    "from json import dumps"
   ]
  },
  {
   "cell_type": "code",
   "execution_count": 2,
   "id": "3a3b6ef2-ada4-4430-8b82-ea40f591882f",
   "metadata": {},
   "outputs": [],
   "source": [
    "producer = KafkaProducer(bootstrap_servers=['3.148.233.16:9092'],\n",
    "                         value_serializer=lambda x:\n",
    "                         dumps(x).encode('utf-8'))"
   ]
  },
  {
   "cell_type": "code",
   "execution_count": 3,
   "id": "26a4cec3-4acd-4d84-a3de-f55a3d807a30",
   "metadata": {},
   "outputs": [
    {
     "data": {
      "text/plain": [
       "<kafka.producer.future.FutureRecordMetadata at 0x119dee650>"
      ]
     },
     "execution_count": 3,
     "metadata": {},
     "output_type": "execute_result"
    }
   ],
   "source": [
    "producer.send('user-funnel',value=\"{'name':'sdfksdf'}\")"
   ]
  },
  {
   "cell_type": "code",
   "execution_count": 4,
   "id": "1f1911ed-952f-4c43-9de3-67f7ceefdae1",
   "metadata": {},
   "outputs": [],
   "source": [
    "df = pd.read_csv(\"user_funnel_metrics.csv\")"
   ]
  },
  {
   "cell_type": "code",
   "execution_count": 5,
   "id": "f8c9d8fc-356c-45f5-9256-92d351c45467",
   "metadata": {},
   "outputs": [
    {
     "data": {
      "text/html": [
       "<div>\n",
       "<style scoped>\n",
       "    .dataframe tbody tr th:only-of-type {\n",
       "        vertical-align: middle;\n",
       "    }\n",
       "\n",
       "    .dataframe tbody tr th {\n",
       "        vertical-align: top;\n",
       "    }\n",
       "\n",
       "    .dataframe thead th {\n",
       "        text-align: right;\n",
       "    }\n",
       "</style>\n",
       "<table border=\"1\" class=\"dataframe\">\n",
       "  <thead>\n",
       "    <tr style=\"text-align: right;\">\n",
       "      <th></th>\n",
       "      <th>user_id</th>\n",
       "      <th>session_id</th>\n",
       "      <th>stage</th>\n",
       "      <th>stage_timestamp</th>\n",
       "      <th>next_stage</th>\n",
       "      <th>next_stage_timestamp</th>\n",
       "      <th>time_to_next_stage</th>\n",
       "      <th>did_drop</th>\n",
       "      <th>product_id</th>\n",
       "      <th>category</th>\n",
       "      <th>device_type</th>\n",
       "      <th>location</th>\n",
       "    </tr>\n",
       "  </thead>\n",
       "  <tbody>\n",
       "    <tr>\n",
       "      <th>0</th>\n",
       "      <td>U001</td>\n",
       "      <td>feee15e2</td>\n",
       "      <td>page_view</td>\n",
       "      <td>2025-04-25 15:12:10</td>\n",
       "      <td>add_to_cart</td>\n",
       "      <td>2025-04-25 15:13:27</td>\n",
       "      <td>77.0</td>\n",
       "      <td>False</td>\n",
       "      <td>P1054</td>\n",
       "      <td>Beauty</td>\n",
       "      <td>desktop</td>\n",
       "      <td>Florida</td>\n",
       "    </tr>\n",
       "    <tr>\n",
       "      <th>1</th>\n",
       "      <td>U001</td>\n",
       "      <td>feee15e2</td>\n",
       "      <td>add_to_cart</td>\n",
       "      <td>2025-04-25 15:13:27</td>\n",
       "      <td>checkout</td>\n",
       "      <td>2025-04-25 15:14:29</td>\n",
       "      <td>62.0</td>\n",
       "      <td>False</td>\n",
       "      <td>P1054</td>\n",
       "      <td>Beauty</td>\n",
       "      <td>desktop</td>\n",
       "      <td>Florida</td>\n",
       "    </tr>\n",
       "    <tr>\n",
       "      <th>2</th>\n",
       "      <td>U001</td>\n",
       "      <td>feee15e2</td>\n",
       "      <td>checkout</td>\n",
       "      <td>2025-04-25 15:14:29</td>\n",
       "      <td>NaN</td>\n",
       "      <td>NaN</td>\n",
       "      <td>NaN</td>\n",
       "      <td>True</td>\n",
       "      <td>P1054</td>\n",
       "      <td>Beauty</td>\n",
       "      <td>desktop</td>\n",
       "      <td>Florida</td>\n",
       "    </tr>\n",
       "    <tr>\n",
       "      <th>3</th>\n",
       "      <td>U002</td>\n",
       "      <td>a61cc9c9</td>\n",
       "      <td>page_view</td>\n",
       "      <td>2025-04-25 14:58:56</td>\n",
       "      <td>add_to_cart</td>\n",
       "      <td>2025-04-25 14:59:48</td>\n",
       "      <td>52.0</td>\n",
       "      <td>False</td>\n",
       "      <td>P1080</td>\n",
       "      <td>Electronics</td>\n",
       "      <td>mobile</td>\n",
       "      <td>New York</td>\n",
       "    </tr>\n",
       "    <tr>\n",
       "      <th>4</th>\n",
       "      <td>U002</td>\n",
       "      <td>a61cc9c9</td>\n",
       "      <td>add_to_cart</td>\n",
       "      <td>2025-04-25 14:59:48</td>\n",
       "      <td>checkout</td>\n",
       "      <td>2025-04-25 15:01:10</td>\n",
       "      <td>82.0</td>\n",
       "      <td>False</td>\n",
       "      <td>P1080</td>\n",
       "      <td>Electronics</td>\n",
       "      <td>mobile</td>\n",
       "      <td>New York</td>\n",
       "    </tr>\n",
       "  </tbody>\n",
       "</table>\n",
       "</div>"
      ],
      "text/plain": [
       "  user_id session_id        stage      stage_timestamp   next_stage  \\\n",
       "0    U001   feee15e2    page_view  2025-04-25 15:12:10  add_to_cart   \n",
       "1    U001   feee15e2  add_to_cart  2025-04-25 15:13:27     checkout   \n",
       "2    U001   feee15e2     checkout  2025-04-25 15:14:29          NaN   \n",
       "3    U002   a61cc9c9    page_view  2025-04-25 14:58:56  add_to_cart   \n",
       "4    U002   a61cc9c9  add_to_cart  2025-04-25 14:59:48     checkout   \n",
       "\n",
       "  next_stage_timestamp  time_to_next_stage  did_drop product_id     category  \\\n",
       "0  2025-04-25 15:13:27                77.0     False      P1054       Beauty   \n",
       "1  2025-04-25 15:14:29                62.0     False      P1054       Beauty   \n",
       "2                  NaN                 NaN      True      P1054       Beauty   \n",
       "3  2025-04-25 14:59:48                52.0     False      P1080  Electronics   \n",
       "4  2025-04-25 15:01:10                82.0     False      P1080  Electronics   \n",
       "\n",
       "  device_type  location  \n",
       "0     desktop   Florida  \n",
       "1     desktop   Florida  \n",
       "2     desktop   Florida  \n",
       "3      mobile  New York  \n",
       "4      mobile  New York  "
      ]
     },
     "execution_count": 5,
     "metadata": {},
     "output_type": "execute_result"
    }
   ],
   "source": [
    "df.head()"
   ]
  },
  {
   "cell_type": "code",
   "execution_count": null,
   "id": "6a23c238-9e61-4bc5-a1c2-08fc5c678e05",
   "metadata": {},
   "outputs": [],
   "source": [
    "# while True:\n",
    "#     for _, row in df.iterrows():\n",
    "#         user_metrics = row.to_dict()\n",
    "#         producer.send('demo_testing2', value=user_metrics)\n",
    "#         sleep(1)"
   ]
  },
  {
   "cell_type": "code",
   "execution_count": 9,
   "id": "f6a63956-e248-4cb7-aee9-6e5ba05b6a64",
   "metadata": {},
   "outputs": [
    {
     "ename": "KeyboardInterrupt",
     "evalue": "",
     "output_type": "error",
     "traceback": [
      "\u001b[0;31m---------------------------------------------------------------------------\u001b[0m",
      "\u001b[0;31mKeyboardInterrupt\u001b[0m                         Traceback (most recent call last)",
      "Cell \u001b[0;32mIn[9], line 4\u001b[0m\n\u001b[1;32m      2\u001b[0m user_metrics \u001b[38;5;241m=\u001b[39m df\u001b[38;5;241m.\u001b[39msample(\u001b[38;5;241m1\u001b[39m)\u001b[38;5;241m.\u001b[39mto_dict(orient\u001b[38;5;241m=\u001b[39m\u001b[38;5;124m\"\u001b[39m\u001b[38;5;124mrecords\u001b[39m\u001b[38;5;124m\"\u001b[39m)[\u001b[38;5;241m0\u001b[39m]\n\u001b[1;32m      3\u001b[0m producer\u001b[38;5;241m.\u001b[39msend(\u001b[38;5;124m'\u001b[39m\u001b[38;5;124muser-funnel\u001b[39m\u001b[38;5;124m'\u001b[39m,value\u001b[38;5;241m=\u001b[39muser_metrics)\n\u001b[0;32m----> 4\u001b[0m sleep(\u001b[38;5;241m1\u001b[39m)\n",
      "\u001b[0;31mKeyboardInterrupt\u001b[0m: "
     ]
    }
   ],
   "source": [
    "while True:\n",
    "    user_metrics = df.sample(1).to_dict(orient=\"records\")[0]\n",
    "    producer.send('user-funnel',value=user_metrics)\n",
    "    sleep(1)"
   ]
  },
  {
   "cell_type": "code",
   "execution_count": 23,
   "id": "7ae41546-7fb0-4a24-9bf8-979d445f1e0f",
   "metadata": {},
   "outputs": [],
   "source": [
    "producer.flush()"
   ]
  },
  {
   "cell_type": "code",
   "execution_count": null,
   "id": "bec186dc-e3c2-4cd5-998f-edf061d02a04",
   "metadata": {},
   "outputs": [],
   "source": []
  }
 ],
 "metadata": {
  "kernelspec": {
   "display_name": "Python 3 (ipykernel)",
   "language": "python",
   "name": "python3"
  },
  "language_info": {
   "codemirror_mode": {
    "name": "ipython",
    "version": 3
   },
   "file_extension": ".py",
   "mimetype": "text/x-python",
   "name": "python",
   "nbconvert_exporter": "python",
   "pygments_lexer": "ipython3",
   "version": "3.11.12"
  }
 },
 "nbformat": 4,
 "nbformat_minor": 5
}
