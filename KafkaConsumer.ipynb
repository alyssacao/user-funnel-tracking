{
 "cells": [
  {
   "cell_type": "code",
   "execution_count": 1,
   "id": "fefa5316-39e6-48f9-970c-c41a59b461dd",
   "metadata": {},
   "outputs": [],
   "source": [
    "from kafka import KafkaConsumer\n",
    "from time import sleep\n",
    "import json\n",
    "from json import dumps,loads\n",
    "from s3fs import S3FileSystem"
   ]
  },
  {
   "cell_type": "code",
   "execution_count": 2,
   "id": "8f67bb79-961c-4895-936d-64a4e9a2f46f",
   "metadata": {},
   "outputs": [],
   "source": [
    "consumer = KafkaConsumer(\n",
    "    'user-funnel',\n",
    "     bootstrap_servers=['3.148.233.16:9092'],\n",
    "    value_deserializer=lambda x: loads(x.decode('utf-8')))"
   ]
  },
  {
   "cell_type": "code",
   "execution_count": 3,
   "id": "29bc655e-c786-42e4-a30f-a23af5e36f65",
   "metadata": {},
   "outputs": [],
   "source": [
    "s3= S3FileSystem()"
   ]
  },
  {
   "cell_type": "code",
   "execution_count": null,
   "id": "9f98ddc5-6427-4ce4-b30a-1eb30d9aa07a",
   "metadata": {},
   "outputs": [],
   "source": [
    "# for count,i in enumerate(consumer):\n",
    "#     print(count)\n",
    "#     print(i.value)"
   ]
  },
  {
   "cell_type": "code",
   "execution_count": null,
   "id": "1821a402-2b0b-4393-bf16-0b2e2653f9f0",
   "metadata": {},
   "outputs": [],
   "source": [
    "for count,i in enumerate(consumer):\n",
    "    with s3.open(\"s3://user-metrics-kafka/user_metrics_{}.json\".format(count), 'w') as file:\n",
    "                 json.dump(i.value,file)"
   ]
  },
  {
   "cell_type": "code",
   "execution_count": null,
   "id": "061f3af4-61fa-4b81-bda4-a1422d153378",
   "metadata": {},
   "outputs": [],
   "source": []
  }
 ],
 "metadata": {
  "kernelspec": {
   "display_name": "Python 3 (ipykernel)",
   "language": "python",
   "name": "python3"
  },
  "language_info": {
   "codemirror_mode": {
    "name": "ipython",
    "version": 3
   },
   "file_extension": ".py",
   "mimetype": "text/x-python",
   "name": "python",
   "nbconvert_exporter": "python",
   "pygments_lexer": "ipython3",
   "version": "3.11.12"
  }
 },
 "nbformat": 4,
 "nbformat_minor": 5
}
